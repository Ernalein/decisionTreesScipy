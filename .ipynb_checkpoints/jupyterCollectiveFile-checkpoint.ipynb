{
 "cells": [
  {
   "cell_type": "code",
   "execution_count": 1,
   "id": "0fa74f41",
   "metadata": {},
   "outputs": [],
   "source": [
    "import numpy as np\n",
    "import pandas as pd\n",
    "from matplotlib import pyplot as plt"
   ]
  },
  {
   "cell_type": "code",
   "execution_count": 6,
   "id": "d8928c42",
   "metadata": {},
   "outputs": [],
   "source": [
    "def entropy(classiColumn):\n",
    "    \n",
    "    # get p (proportion) for each value of the classification Column (use set function)\n",
    "    # sum up -p * log(p) for each value\n",
    "    # return the entropy\n",
    "    "
   ]
  },
  {
   "cell_type": "code",
   "execution_count": 7,
   "id": "0dee886c",
   "metadata": {},
   "outputs": [],
   "source": [
    "def informationGain(dataSet, classiComlumn, attriColumnIndex):\n",
    "    \n",
    "    # calculate entropy of whole data set\n",
    "    # split dataSet and Classification Column according to the values of the attribute (specified by the attributeIndex)\n",
    "    # calculate entropy of each subset\n",
    "    # normalize each subset by their relative size\n",
    "    # substract summed and weighted entropy of subsets from entropy of whole set\n",
    "    "
   ]
  },
  {
   "cell_type": "code",
   "execution_count": 9,
   "id": "1c65659a",
   "metadata": {},
   "outputs": [
    {
     "ename": "SyntaxError",
     "evalue": "incomplete input (1188771869.py, line 2)",
     "output_type": "error",
     "traceback": [
      "\u001b[1;36m  Input \u001b[1;32mIn [9]\u001b[1;36m\u001b[0m\n\u001b[1;33m    \u001b[0m\n\u001b[1;37m    ^\u001b[0m\n\u001b[1;31mSyntaxError\u001b[0m\u001b[1;31m:\u001b[0m incomplete input\n"
     ]
    }
   ],
   "source": [
    "class DecisionNode:\n",
    "    \n",
    "    __init__(self, dataSet, classiColumn):\n",
    "        \n",
    "        # check if ClassiColumn holds only one value (use set function)\n",
    "        # if yes, this is a leaf node\n",
    "        #    set classification\n",
    "        # if no, train the tree\n",
    "        #    calculate information gain of each attribute\n",
    "        #    divide dataSet and Classification Column into subsets by the values of the chosen attribute\n",
    "        #    create and save a new childNode for each subset\n",
    "        \n",
    "    # function that prints the tree (traverse through the tree)\n",
    "    \n",
    "    # function that checks classification of datapoint (traverse through the tree)"
   ]
  },
  {
   "cell_type": "code",
   "execution_count": null,
   "id": "995308c2",
   "metadata": {},
   "outputs": [],
   "source": []
  }
 ],
 "metadata": {
  "kernelspec": {
   "display_name": "Python 3 (ipykernel)",
   "language": "python",
   "name": "python3"
  },
  "language_info": {
   "codemirror_mode": {
    "name": "ipython",
    "version": 3
   },
   "file_extension": ".py",
   "mimetype": "text/x-python",
   "name": "python",
   "nbconvert_exporter": "python",
   "pygments_lexer": "ipython3",
   "version": "3.10.4"
  }
 },
 "nbformat": 4,
 "nbformat_minor": 5
}
